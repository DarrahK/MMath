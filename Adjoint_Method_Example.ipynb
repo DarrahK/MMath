{
  "nbformat": 4,
  "nbformat_minor": 0,
  "metadata": {
    "colab": {
      "name": "Copy_of_Copy_of_Untitled5.ipynb",
      "provenance": [],
      "collapsed_sections": []
    },
    "kernelspec": {
      "name": "python3",
      "display_name": "Python 3"
    },
    "language_info": {
      "name": "python"
    }
  },
  "cells": [
    {
      "cell_type": "code",
      "metadata": {
        "id": "49Z--647JU5X"
      },
      "source": [
        "# Imports\n",
        "\n",
        "import numpy as np\n",
        "import tensorflow as tf\n",
        "from tensorflow import keras\n",
        "from tensorflow.keras import layers\n",
        "import matplotlib.pyplot as plt"
      ],
      "execution_count": null,
      "outputs": []
    },
    {
      "cell_type": "code",
      "metadata": {
        "id": "rkEIoEeKl464"
      },
      "source": [
        "tf.keras.backend.set_floatx('float32')"
      ],
      "execution_count": null,
      "outputs": []
    },
    {
      "cell_type": "code",
      "metadata": {
        "id": "PAX2mltaI564"
      },
      "source": [
        "t = np.linspace(0, 25, 200)\n",
        "h0 = tf.constant([[1., 0.]])\n",
        "W = tf.constant([[-0.1, 1.0], [-0.2, -0.1]])"
      ],
      "execution_count": null,
      "outputs": []
    },
    {
      "cell_type": "code",
      "metadata": {
        "colab": {
          "base_uri": "https://localhost:8080/"
        },
        "id": "rvJNiRX8JCf8",
        "outputId": "268f2682-de6b-4932-92ea-8c5fe703bd07"
      },
      "source": [
        "W"
      ],
      "execution_count": null,
      "outputs": [
        {
          "output_type": "execute_result",
          "data": {
            "text/plain": [
              "<tf.Tensor: shape=(2, 2), dtype=float32, numpy=\n",
              "array([[-0.1,  1. ],\n",
              "       [-0.2, -0.1]], dtype=float32)>"
            ]
          },
          "metadata": {
            "tags": []
          },
          "execution_count": 4
        }
      ]
    },
    {
      "cell_type": "code",
      "metadata": {
        "colab": {
          "base_uri": "https://localhost:8080/"
        },
        "id": "DT4Vp9ZUQsPF",
        "outputId": "f0246fb1-6803-4b5a-fd8b-1396a5dc1e13"
      },
      "source": [
        "h0"
      ],
      "execution_count": null,
      "outputs": [
        {
          "output_type": "execute_result",
          "data": {
            "text/plain": [
              "<tf.Tensor: shape=(1, 2), dtype=float32, numpy=array([[1., 0.]], dtype=float32)>"
            ]
          },
          "metadata": {
            "tags": []
          },
          "execution_count": 5
        }
      ]
    },
    {
      "cell_type": "code",
      "metadata": {
        "id": "PS79H1cnJFcS"
      },
      "source": [
        "class Lambda(tf.keras.Model):\n",
        "    def call(self, h, t, **kwargs):\n",
        "        return tf.matmul(h, W)"
      ],
      "execution_count": null,
      "outputs": []
    },
    {
      "cell_type": "code",
      "metadata": {
        "id": "w2tzOHvXEuUg"
      },
      "source": [
        "def odeint(func, z0, t, solver):\n",
        "  t_diff = t[1:] - t[:-1]\n",
        "  zk = z0\n",
        "  tk = t[0]\n",
        "  \n",
        "  hist = [zk]\n",
        "\n",
        "  for delta_t in t_diff:\n",
        "    zk = solver(delta_t, zk, tk, func)\n",
        "    tk = tk + delta_t\n",
        "    hist.append(zk)\n",
        "  return hist"
      ],
      "execution_count": null,
      "outputs": []
    },
    {
      "cell_type": "code",
      "metadata": {
        "id": "BgWfh3NpYMev"
      },
      "source": [
        "def euler_step(dt, zk, tk, func):\n",
        "  return zk + dt * func(zk, tk)"
      ],
      "execution_count": null,
      "outputs": []
    },
    {
      "cell_type": "code",
      "metadata": {
        "id": "N93AcfoVfG7z"
      },
      "source": [
        "def zip_map(zipped, update_op):\n",
        "    return [update_op(*elems) for elems in zipped]\n",
        "\n",
        "\n",
        "def euler_update(h_list, dh_list, dt):\n",
        "    return zip_map(zip(h_list, dh_list), lambda h, dh: h + tf.cast(dt, tf.float32) * dh)\n",
        "\n",
        "def euler_step_back(dt, state, func):\n",
        "    return state + func(state) * dt"
      ],
      "execution_count": null,
      "outputs": []
    },
    {
      "cell_type": "code",
      "metadata": {
        "id": "Hm9Oxw8PJM_o"
      },
      "source": [
        "a = odeint(Lambda(), h0, t, euler_step)\n",
        "initial_path = np.concatenate(a)"
      ],
      "execution_count": null,
      "outputs": []
    },
    {
      "cell_type": "code",
      "metadata": {
        "id": "qZOJmBEgaVIt"
      },
      "source": [
        "hN_target = initial_path[-1]"
      ],
      "execution_count": null,
      "outputs": []
    },
    {
      "cell_type": "code",
      "metadata": {
        "colab": {
          "base_uri": "https://localhost:8080/",
          "height": 337
        },
        "id": "bVBR0HnXJ-uK",
        "outputId": "510815ec-3de3-4a77-b246-c6c92fc458ce"
      },
      "source": [
        "plt.figure(figsize=(5, 5))\n",
        "plt.plot(initial_path[:,0], initial_path[:,1])"
      ],
      "execution_count": null,
      "outputs": [
        {
          "output_type": "execute_result",
          "data": {
            "text/plain": [
              "[<matplotlib.lines.Line2D at 0x7fbc3d95e450>]"
            ]
          },
          "metadata": {
            "tags": []
          },
          "execution_count": 12
        },
        {
          "output_type": "display_data",
          "data": {
            "image/png": "[encoded data removed]",
            "text/plain": [
              "<Figure size 360x360 with 1 Axes>"
            ]
          },
          "metadata": {
            "tags": [],
            "needs_background": "light"
          }
        }
      ]
    },
    {
      "cell_type": "code",
      "metadata": {
        "id": "5G_lxrx9O_X6"
      },
      "source": [
        "class Module(keras.Model):\n",
        "    def __init__(self, nf):\n",
        "        super(Module, self).__init__()        \n",
        "        self.dense_2 = tf.keras.layers.Dense(nf)\n",
        "\n",
        "    def call(self, x, t, **kwargs):\n",
        "        return self.dense_2(x)"
      ],
      "execution_count": null,
      "outputs": []
    },
    {
      "cell_type": "code",
      "metadata": {
        "id": "GObOYnBqN4CD"
      },
      "source": [
        "class NeuralODE(keras.Model):\n",
        "\n",
        "  def __init__(self, forcing_func, *args, **kwargs):\n",
        "    super(NeuralODE, self).__init__(*args, **kwargs)\n",
        "    self.func = forcing_func\n",
        "\n",
        "  def call(self, z0, t, whole_seq = False):\n",
        "\n",
        "    z = odeint(self.func, z0, t, euler_step)\n",
        "    z = np.concatenate(z)\n",
        "\n",
        "    if whole_seq:\n",
        "      return z\n",
        "    else:\n",
        "      return z[-1]\n",
        "\n",
        "  def _backward_dynamics(self, state):\n",
        "\n",
        "    t = state[0]\n",
        "    z = state[1]\n",
        "    at = -state[2]\n",
        "\n",
        "    z = tf.reshape(z, [1,2])\n",
        "    at = tf.reshape(at, [1,2])\n",
        "\n",
        "    with tf.GradientTape() as g:\n",
        "      g.watch(z)\n",
        "      func_eval = self.func(z, t)\n",
        "    \n",
        "\n",
        "    grad_z, grad_train = g.gradient(\n",
        "        func_eval,  [z, self.func.trainable_weights],\n",
        "        output_gradients=at\n",
        "    )\n",
        "\n",
        "\n",
        "    return [1.0, func_eval, grad_z, grad_train]\n",
        "\n",
        "  def backwards(self, t, outputs, outputs_gradients):\n",
        "    grad_weights = [tf.zeros_like(w) for w in self.func.trainable_weights]\n",
        "\n",
        "    t0 = tf.constant([t[-1]], dtype=tf.float32)\n",
        "\n",
        "    t_diff = t[1:] - t[:-1]\n",
        "\n",
        "    state = [t0, outputs, outputs_gradients, grad_weights]\n",
        "\n",
        "    for dt in t_diff[::-1]:\n",
        "      dt = tf.constant(dt, dtype=tf.float32)\n",
        "      out = self._backward_dynamics(state)\n",
        "\n",
        "      state[1] = state[1] - out[1]* dt\n",
        "      state[2] = state[2] - out[2]* dt\n",
        "      state[3] = [start - update * dt for (start, update) in zip(state[3], out[3])]\n",
        "\n",
        "    inputs = state[1]\n",
        "    dLdInputs = state[2]\n",
        "    dLdWeights = state[3:]\n",
        "    return inputs, dLdInputs, dLdWeights"
      ],
      "execution_count": null,
      "outputs": []
    },
    {
      "cell_type": "code",
      "metadata": {
        "id": "D7_oGYNTZKAG"
      },
      "source": [
        "model = Module(2)\n",
        "NN = NeuralODE(model)"
      ],
      "execution_count": null,
      "outputs": []
    },
    {
      "cell_type": "code",
      "metadata": {
        "colab": {
          "base_uri": "https://localhost:8080/"
        },
        "id": "yGVZlYzXZWsH",
        "outputId": "6f23f96f-d2e8-4cba-b8af-a5139529548e"
      },
      "source": [
        "NN(h0, t)"
      ],
      "execution_count": null,
      "outputs": [
        {
          "output_type": "execute_result",
          "data": {
            "text/plain": [
              "array([ 0.01681701, -0.01514348], dtype=float32)"
            ]
          },
          "metadata": {
            "tags": []
          },
          "execution_count": 16
        }
      ]
    },
    {
      "cell_type": "code",
      "metadata": {
        "id": "VDpoR4H25n2Q"
      },
      "source": [
        "optimizer = tf.keras.optimizers.RMSprop(learning_rate = 0.01)\n",
        "loss_fn = tf.keras.losses.MeanSquaredError()"
      ],
      "execution_count": null,
      "outputs": []
    },
    {
      "cell_type": "code",
      "metadata": {
        "id": "E62mQNT1_6KK"
      },
      "source": [
        "t = np.linspace(0, 25, 200)\n",
        "h0 = tf.constant([[1., 0.]])"
      ],
      "execution_count": null,
      "outputs": []
    },
    {
      "cell_type": "code",
      "metadata": {
        "colab": {
          "base_uri": "https://localhost:8080/"
        },
        "id": "ZsCailJvaAL3",
        "outputId": "165d3f7e-163a-4d6a-8146-a821228c4b2d"
      },
      "source": [
        "for i in range(1000):\n",
        "  end = np.random.uniform(0,25)\n",
        "  t = np.linspace(0, end, 200)\n",
        "  a = odeint(Lambda(), h0, t, euler_step)\n",
        "  initial_path = np.concatenate(a)\n",
        "  hN_target = initial_path[-1]\n",
        "  with tf.GradientTape() as g:\n",
        "    out = NN(h0, t)\n",
        "    out = tf.constant(out)\n",
        "    g.watch(out)\n",
        "    loss = tf.reduce_sum((hN_target - out)**2)\n",
        "  if i % 10 == 0:\n",
        "    print(i)\n",
        "    print(loss)\n",
        "  dLoss = g.gradient(loss, out)\n",
        "  h0_reconstruction, dfdh0, dWeights = NN.backwards(t, out, dLoss)\n",
        "\n",
        "  optimizer.apply_gradients(zip(dWeights[0], NN.func.trainable_weights))"
      ],
      "execution_count": null,
      "outputs": [
        {
          "output_type": "stream",
          "text": [
            "0\n",
            "tf.Tensor(0.8568509, shape=(), dtype=float32)\n",
            "10\n",
            "tf.Tensor(0.022413738, shape=(), dtype=float32)\n",
            "20\n",
            "tf.Tensor(0.18093312, shape=(), dtype=float32)\n",
            "30\n",
            "tf.Tensor(0.06213416, shape=(), dtype=float32)\n",
            "40\n",
            "tf.Tensor(0.09921902, shape=(), dtype=float32)\n",
            "50\n",
            "tf.Tensor(0.048199553, shape=(), dtype=float32)\n",
            "60\n",
            "tf.Tensor(2.0271554, shape=(), dtype=float32)\n",
            "70\n",
            "tf.Tensor(1.4403875, shape=(), dtype=float32)\n",
            "80\n",
            "tf.Tensor(0.4058726, shape=(), dtype=float32)\n",
            "90\n",
            "tf.Tensor(0.0210715, shape=(), dtype=float32)\n",
            "100\n",
            "tf.Tensor(0.34481704, shape=(), dtype=float32)\n",
            "110\n",
            "tf.Tensor(0.5846214, shape=(), dtype=float32)\n",
            "120\n",
            "tf.Tensor(0.0017999612, shape=(), dtype=float32)\n",
            "130\n",
            "tf.Tensor(0.17740643, shape=(), dtype=float32)\n",
            "140\n",
            "tf.Tensor(0.09860051, shape=(), dtype=float32)\n",
            "150\n",
            "tf.Tensor(0.15026468, shape=(), dtype=float32)\n",
            "160\n",
            "tf.Tensor(0.67857254, shape=(), dtype=float32)\n",
            "170\n",
            "tf.Tensor(0.0316522, shape=(), dtype=float32)\n",
            "180\n",
            "tf.Tensor(0.47210926, shape=(), dtype=float32)\n",
            "190\n",
            "tf.Tensor(0.16073483, shape=(), dtype=float32)\n",
            "200\n",
            "tf.Tensor(0.22434375, shape=(), dtype=float32)\n",
            "210\n",
            "tf.Tensor(0.17667381, shape=(), dtype=float32)\n",
            "220\n",
            "tf.Tensor(0.040966693, shape=(), dtype=float32)\n",
            "230\n",
            "tf.Tensor(0.063630804, shape=(), dtype=float32)\n",
            "240\n",
            "tf.Tensor(0.05821843, shape=(), dtype=float32)\n",
            "250\n",
            "tf.Tensor(0.0012230749, shape=(), dtype=float32)\n",
            "260\n",
            "tf.Tensor(0.10112763, shape=(), dtype=float32)\n",
            "270\n",
            "tf.Tensor(0.0339439, shape=(), dtype=float32)\n",
            "280\n",
            "tf.Tensor(0.06177713, shape=(), dtype=float32)\n",
            "290\n",
            "tf.Tensor(0.014252266, shape=(), dtype=float32)\n",
            "300\n",
            "tf.Tensor(0.05507013, shape=(), dtype=float32)\n",
            "310\n",
            "tf.Tensor(0.06638919, shape=(), dtype=float32)\n",
            "320\n",
            "tf.Tensor(0.0062016984, shape=(), dtype=float32)\n",
            "330\n",
            "tf.Tensor(0.0033485594, shape=(), dtype=float32)\n",
            "340\n",
            "tf.Tensor(0.0009411991, shape=(), dtype=float32)\n",
            "350\n",
            "tf.Tensor(0.0022518416, shape=(), dtype=float32)\n",
            "360\n",
            "tf.Tensor(0.03815563, shape=(), dtype=float32)\n",
            "370\n",
            "tf.Tensor(0.0013098022, shape=(), dtype=float32)\n",
            "380\n",
            "tf.Tensor(6.680286e-05, shape=(), dtype=float32)\n",
            "390\n",
            "tf.Tensor(0.0030591788, shape=(), dtype=float32)\n",
            "400\n",
            "tf.Tensor(0.037326414, shape=(), dtype=float32)\n",
            "410\n",
            "tf.Tensor(0.033159956, shape=(), dtype=float32)\n",
            "420\n",
            "tf.Tensor(0.026596583, shape=(), dtype=float32)\n",
            "430\n",
            "tf.Tensor(0.049804688, shape=(), dtype=float32)\n",
            "440\n",
            "tf.Tensor(0.010550253, shape=(), dtype=float32)\n",
            "450\n",
            "tf.Tensor(0.0025766836, shape=(), dtype=float32)\n",
            "460\n",
            "tf.Tensor(0.007705875, shape=(), dtype=float32)\n",
            "470\n",
            "tf.Tensor(0.009281722, shape=(), dtype=float32)\n",
            "480\n",
            "tf.Tensor(0.0020772398, shape=(), dtype=float32)\n",
            "490\n",
            "tf.Tensor(0.0010310843, shape=(), dtype=float32)\n",
            "500\n",
            "tf.Tensor(0.0035581144, shape=(), dtype=float32)\n",
            "510\n",
            "tf.Tensor(0.0036361536, shape=(), dtype=float32)\n",
            "520\n",
            "tf.Tensor(0.0031036811, shape=(), dtype=float32)\n",
            "530\n",
            "tf.Tensor(0.01050768, shape=(), dtype=float32)\n",
            "540\n",
            "tf.Tensor(0.017532606, shape=(), dtype=float32)\n",
            "550\n",
            "tf.Tensor(0.00072539324, shape=(), dtype=float32)\n",
            "560\n",
            "tf.Tensor(0.021873228, shape=(), dtype=float32)\n",
            "570\n",
            "tf.Tensor(0.0140904505, shape=(), dtype=float32)\n",
            "580\n",
            "tf.Tensor(0.020866834, shape=(), dtype=float32)\n",
            "590\n",
            "tf.Tensor(0.0009946837, shape=(), dtype=float32)\n",
            "600\n",
            "tf.Tensor(9.8669e-05, shape=(), dtype=float32)\n",
            "610\n",
            "tf.Tensor(0.0074777873, shape=(), dtype=float32)\n",
            "620\n",
            "tf.Tensor(0.0040593594, shape=(), dtype=float32)\n",
            "630\n",
            "tf.Tensor(0.0146992365, shape=(), dtype=float32)\n",
            "640\n",
            "tf.Tensor(0.00011969858, shape=(), dtype=float32)\n",
            "650\n",
            "tf.Tensor(0.0014299662, shape=(), dtype=float32)\n",
            "660\n",
            "tf.Tensor(0.0016800765, shape=(), dtype=float32)\n",
            "670\n",
            "tf.Tensor(0.02206107, shape=(), dtype=float32)\n",
            "680\n",
            "tf.Tensor(0.0028357445, shape=(), dtype=float32)\n",
            "690\n",
            "tf.Tensor(0.0004916075, shape=(), dtype=float32)\n",
            "700\n",
            "tf.Tensor(0.0009780573, shape=(), dtype=float32)\n",
            "710\n",
            "tf.Tensor(0.0052571106, shape=(), dtype=float32)\n",
            "720\n",
            "tf.Tensor(0.005495858, shape=(), dtype=float32)\n",
            "730\n",
            "tf.Tensor(0.00023908264, shape=(), dtype=float32)\n",
            "740\n",
            "tf.Tensor(0.000423653, shape=(), dtype=float32)\n",
            "750\n",
            "tf.Tensor(3.8563958e-05, shape=(), dtype=float32)\n",
            "760\n",
            "tf.Tensor(0.0006977486, shape=(), dtype=float32)\n",
            "770\n",
            "tf.Tensor(0.049300924, shape=(), dtype=float32)\n",
            "780\n",
            "tf.Tensor(8.80669e-05, shape=(), dtype=float32)\n",
            "790\n",
            "tf.Tensor(0.009397401, shape=(), dtype=float32)\n",
            "800\n",
            "tf.Tensor(0.019324142, shape=(), dtype=float32)\n",
            "810\n",
            "tf.Tensor(0.00049711077, shape=(), dtype=float32)\n",
            "820\n",
            "tf.Tensor(0.0011858394, shape=(), dtype=float32)\n",
            "830\n",
            "tf.Tensor(0.02534144, shape=(), dtype=float32)\n",
            "840\n",
            "tf.Tensor(0.0015251831, shape=(), dtype=float32)\n",
            "850\n",
            "tf.Tensor(0.0037097991, shape=(), dtype=float32)\n",
            "860\n",
            "tf.Tensor(0.003817396, shape=(), dtype=float32)\n",
            "870\n",
            "tf.Tensor(0.00094317086, shape=(), dtype=float32)\n",
            "880\n",
            "tf.Tensor(0.009707519, shape=(), dtype=float32)\n",
            "890\n",
            "tf.Tensor(0.0008527795, shape=(), dtype=float32)\n",
            "900\n",
            "tf.Tensor(0.00024926616, shape=(), dtype=float32)\n",
            "910\n",
            "tf.Tensor(0.0066315797, shape=(), dtype=float32)\n",
            "920\n",
            "tf.Tensor(0.00062259723, shape=(), dtype=float32)\n",
            "930\n",
            "tf.Tensor(0.0031853165, shape=(), dtype=float32)\n",
            "940\n",
            "tf.Tensor(0.0050282315, shape=(), dtype=float32)\n",
            "950\n",
            "tf.Tensor(0.0075610806, shape=(), dtype=float32)\n",
            "960\n",
            "tf.Tensor(0.0069253515, shape=(), dtype=float32)\n",
            "970\n",
            "tf.Tensor(0.010944248, shape=(), dtype=float32)\n",
            "980\n",
            "tf.Tensor(0.00861185, shape=(), dtype=float32)\n",
            "990\n",
            "tf.Tensor(0.0011325777, shape=(), dtype=float32)\n"
          ],
          "name": "stdout"
        }
      ]
    },
    {
      "cell_type": "code",
      "metadata": {
        "id": "oI5DxMlxa2bv"
      },
      "source": [
        "t = np.linspace(0, 25, 200)\n",
        "h0 = tf.constant([[1., 0.]])\n",
        "a = NN(h0, t, True)"
      ],
      "execution_count": null,
      "outputs": []
    },
    {
      "cell_type": "code",
      "metadata": {
        "id": "_-u_CudM496Y",
        "colab": {
          "base_uri": "https://localhost:8080/",
          "height": 337
        },
        "outputId": "a58a6d63-9732-4880-90d9-0e906d89ef65"
      },
      "source": [
        "plt.figure(figsize=(5, 5))\n",
        "plt.plot(a[:,0], a[:,1])\n",
        "plt.plot(initial_path[:,0], initial_path[:,1])"
      ],
      "execution_count": null,
      "outputs": [
        {
          "output_type": "execute_result",
          "data": {
            "text/plain": [
              "[<matplotlib.lines.Line2D at 0x7fbc394af3d0>]"
            ]
          },
          "metadata": {
            "tags": []
          },
          "execution_count": 29
        },
        {
          "output_type": "display_data",
          "data": {
            "image/png": "[encoded data removed]",
            "text/plain": [
              "<Figure size 360x360 with 1 Axes>"
            ]
          },
          "metadata": {
            "tags": [],
            "needs_background": "light"
          }
        }
      ]
    },
    {
      "cell_type": "code",
      "metadata": {
        "id": "Yk85Y5G9_U1l",
        "colab": {
          "base_uri": "https://localhost:8080/"
        },
        "outputId": "ed5dadbd-59f4-49fa-d043-18f5b4832b3f"
      },
      "source": [
        "NN.trainable_weights"
      ],
      "execution_count": null,
      "outputs": [
        {
          "output_type": "execute_result",
          "data": {
            "text/plain": [
              "[<tf.Variable 'neural_ode/module/dense/kernel:0' shape=(2, 2) dtype=float32, numpy=\n",
              " array([[-0.8110299 ,  0.19058914],\n",
              "        [-0.5473115 , -1.1721035 ]], dtype=float32)>,\n",
              " <tf.Variable 'neural_ode/module/dense/bias:0' shape=(2,) dtype=float32, numpy=array([-0.01637637,  0.11210658], dtype=float32)>]"
            ]
          },
          "metadata": {
            "tags": []
          },
          "execution_count": 22
        }
      ]
    }
  ]
}