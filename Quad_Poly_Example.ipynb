{
  "nbformat": 4,
  "nbformat_minor": 0,
  "metadata": {
    "colab": {
      "name": "Quad_Poly_Example.ipynb",
      "provenance": []
    },
    "kernelspec": {
      "name": "python3",
      "display_name": "Python 3"
    },
    "language_info": {
      "name": "python"
    }
  },
  "cells": [
    {
      "cell_type": "markdown",
      "metadata": {
        "id": "Ti-0i6GPIphm"
      },
      "source": [
        "Trying to learn the quadratic polynomial, \n",
        "\n",
        "![poly.png](data:image/png;base64,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)\n",
        "\n",
        "using the parametric model,\n",
        "\n",
        "![poly2.png](data:image/png;base64,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)\n",
        "\n",
        "The true extact value of theta are:\n",
        "\n",
        "theta_0 = 1\n",
        "\n",
        "theta_1 = 2\n",
        "\n",
        "theta_2 = 4\n",
        "\n",
        "And the learnt values of theta are:\n",
        "\n",
        "theta_0 = 1.0938637\n",
        "\n",
        "theta_1 = 2.1218762\n",
        "\n",
        "theta_2 = 4.073845\n",
        "\n",
        "**NOTE**: This code is just for experimentation/explanation purposes for my thesis only and is not intended to be a demonstration of my coding ability."
      ]
    },
    {
      "cell_type": "code",
      "metadata": {
        "id": "06wR8hZY8OEe"
      },
      "source": [
        "import numpy as np\n",
        "import tensorflow as tf\n",
        "from tensorflow import keras\n",
        "from tensorflow.keras import layers"
      ],
      "execution_count": 1,
      "outputs": []
    },
    {
      "cell_type": "code",
      "metadata": {
        "id": "6mnUCx-9E41o"
      },
      "source": [
        "############################## Models ##############################"
      ],
      "execution_count": 2,
      "outputs": []
    },
    {
      "cell_type": "code",
      "metadata": {
        "id": "JpiGrHS-9HcM"
      },
      "source": [
        "# Exact model (function)\n",
        "\n",
        "def exact(x):\n",
        "  return 1 + 2 * x + 4 * x**2"
      ],
      "execution_count": 3,
      "outputs": []
    },
    {
      "cell_type": "code",
      "metadata": {
        "id": "eOaptuyCBVF_"
      },
      "source": [
        "# Parametric model\n",
        "\n",
        "class Quad_Model(keras.Model):\n",
        "  def __init__(self, *args, **kwargs):\n",
        "    super(Quad_Model, self).__init__(*args, **kwargs)\n",
        "    self.theta_0 = tf.Variable(np.random.randn(), name = \"theta_0\")\n",
        "    self.theta_1 = tf.Variable(np.random.randn(), name = \"theta_1\")\n",
        "    self.theta_2 = tf.Variable(np.random.randn(), name = \"theta_2\")\n",
        "\n",
        "  def call(self, x):\n",
        "    return self.theta_0 + self.theta_1 * x + self.theta_2 * tf.pow(x, 2)"
      ],
      "execution_count": 4,
      "outputs": []
    },
    {
      "cell_type": "code",
      "metadata": {
        "id": "fW3_EY87EwyF"
      },
      "source": [
        "############################## Model Parameters ##############################"
      ],
      "execution_count": 5,
      "outputs": []
    },
    {
      "cell_type": "code",
      "metadata": {
        "id": "2HFPHbGx9b1q"
      },
      "source": [
        "# Gaussian noise\n",
        "sigma = 0.05\n",
        "\n",
        "# Epochs\n",
        "epochs = 4\n",
        "\n",
        "# Number of data points\n",
        "N = 12800\n",
        "\n",
        "# Batch Size\n",
        "batch_size = 64"
      ],
      "execution_count": 6,
      "outputs": []
    },
    {
      "cell_type": "code",
      "metadata": {
        "id": "etkJXGmrEsyq"
      },
      "source": [
        "############################## Creating Training Data ##############################"
      ],
      "execution_count": 7,
      "outputs": []
    },
    {
      "cell_type": "code",
      "metadata": {
        "id": "y09JeoQN8Rpa"
      },
      "source": [
        "def creat_train_data(N, simga = 0.1):\n",
        "  x_data = np.random.uniform(0.0 , 1.0, N)\n",
        "  noise = np.random.normal(scale = sigma , size = N)\n",
        "  y_data = exact(x_data)\n",
        "  return x_data, y_data + noise"
      ],
      "execution_count": 8,
      "outputs": []
    },
    {
      "cell_type": "code",
      "metadata": {
        "id": "WOhx0YIp_EPx"
      },
      "source": [
        "x_data, y_data = creat_train_data(N, sigma)"
      ],
      "execution_count": 9,
      "outputs": []
    },
    {
      "cell_type": "code",
      "metadata": {
        "id": "FzJGqfrSBsTL"
      },
      "source": [
        "train_dataset = tf.data.Dataset.from_tensor_slices((x_data, y_data))\n",
        "train_dataset = train_dataset.shuffle(N).batch(batch_size)"
      ],
      "execution_count": 10,
      "outputs": []
    },
    {
      "cell_type": "code",
      "metadata": {
        "id": "-OKuCfh9ErYh"
      },
      "source": [
        "############################## Training ##############################"
      ],
      "execution_count": 11,
      "outputs": []
    },
    {
      "cell_type": "code",
      "metadata": {
        "id": "r5fsacWaBix6"
      },
      "source": [
        "model = Quad_Model()"
      ],
      "execution_count": 12,
      "outputs": []
    },
    {
      "cell_type": "code",
      "metadata": {
        "id": "VeFzumRpGUhG"
      },
      "source": [
        "optimizer = tf.keras.optimizers.RMSprop(learning_rate = 0.1)\n",
        "loss_fn = tf.keras.losses.MeanSquaredError()"
      ],
      "execution_count": 13,
      "outputs": []
    },
    {
      "cell_type": "code",
      "metadata": {
        "colab": {
          "base_uri": "https://localhost:8080/"
        },
        "id": "cXH9lGjAGWIj",
        "outputId": "b3489cfd-7c38-4881-8a3f-fcd1bb9e7afb"
      },
      "source": [
        "# Train over number of epochs\n",
        "for epoch in range(epochs):\n",
        "    print(f\"\\nStart of epoch {epoch + 1}\")\n",
        "    for step, (x_batch_train, y_batch_train) in enumerate(train_dataset):\n",
        "        with tf.GradientTape() as tape:\n",
        "            y_batch_pred = model(x_batch_train)\n",
        "            loss_value = loss_fn(y_batch_pred, y_batch_train)\n",
        "        grads = tape.gradient(loss_value, model.trainable_weights)\n",
        "        optimizer.apply_gradients(zip(grads, model.trainable_weights))\n",
        "\n",
        "        if step % 50 == 0:\n",
        "          print(f\"Training loss (for one batch) at batch {step}: {loss_value}\")"
      ],
      "execution_count": 14,
      "outputs": [
        {
          "output_type": "stream",
          "text": [
            "\n",
            "Start of epoch 1\n",
            "Training loss (for one batch) at batch 0: 26.612150192260742\n",
            "Training loss (for one batch) at batch 50: 0.04703747108578682\n",
            "Training loss (for one batch) at batch 100: 0.009455046616494656\n",
            "Training loss (for one batch) at batch 150: 0.017842557281255722\n",
            "\n",
            "Start of epoch 2\n",
            "Training loss (for one batch) at batch 0: 0.00561154680326581\n",
            "Training loss (for one batch) at batch 50: 0.020930198952555656\n",
            "Training loss (for one batch) at batch 100: 0.002986753126606345\n",
            "Training loss (for one batch) at batch 150: 0.009120217524468899\n",
            "\n",
            "Start of epoch 3\n",
            "Training loss (for one batch) at batch 0: 0.006368954665958881\n",
            "Training loss (for one batch) at batch 50: 0.010023415088653564\n",
            "Training loss (for one batch) at batch 100: 0.0066929711028933525\n",
            "Training loss (for one batch) at batch 150: 0.015293644741177559\n",
            "\n",
            "Start of epoch 4\n",
            "Training loss (for one batch) at batch 0: 0.008385209366679192\n",
            "Training loss (for one batch) at batch 50: 0.0027286813128739595\n",
            "Training loss (for one batch) at batch 100: 0.0088350810110569\n",
            "Training loss (for one batch) at batch 150: 0.010204938240349293\n"
          ],
          "name": "stdout"
        }
      ]
    },
    {
      "cell_type": "code",
      "metadata": {
        "colab": {
          "base_uri": "https://localhost:8080/"
        },
        "id": "dErABKGiG601",
        "outputId": "c906e449-7662-4473-a6e4-5e9bf94b5b7d"
      },
      "source": [
        "# Trained model predictions of theta_0, theta_1, theta_2\n",
        "\n",
        "model.trainable_variables"
      ],
      "execution_count": 15,
      "outputs": [
        {
          "output_type": "execute_result",
          "data": {
            "text/plain": [
              "[<tf.Variable 'theta_0:0' shape=() dtype=float32, numpy=1.0938637>,\n",
              " <tf.Variable 'theta_1:0' shape=() dtype=float32, numpy=2.1218762>,\n",
              " <tf.Variable 'theta_2:0' shape=() dtype=float32, numpy=4.073845>]"
            ]
          },
          "metadata": {
            "tags": []
          },
          "execution_count": 15
        }
      ]
    },
    {
      "cell_type": "code",
      "metadata": {
        "id": "QJOLwoH5EmCP"
      },
      "source": [
        "############################## Ploting ##############################"
      ],
      "execution_count": 16,
      "outputs": []
    },
    {
      "cell_type": "code",
      "metadata": {
        "id": "29Txk6DxJfkH"
      },
      "source": [
        "from matplotlib import pyplot as plt\n",
        "from matplotlib.pyplot import figure"
      ],
      "execution_count": 17,
      "outputs": []
    },
    {
      "cell_type": "code",
      "metadata": {
        "colab": {
          "base_uri": "https://localhost:8080/",
          "height": 404
        },
        "id": "FijPWuprJlgU",
        "outputId": "7835f427-74c0-46e8-8a9f-be7ec2abda6d"
      },
      "source": [
        "x_plot = np.linspace(0.0, 1.0, 100)\n",
        "\n",
        "figure(figsize=(6,6))\n",
        "plt.plot(x_plot, exact(x_plot), label = \"real\")\n",
        "plt.plot(x_plot, model(x_plot), label = \"prediction\")\n",
        "plt.ylabel(\"y-axis\")\n",
        "plt.xlabel(\"x-axis\")\n",
        "plt.title(\"Plot of the exact polynomial vs learned polynomial\")\n",
        "plt.legend(loc=\"lower right\")\n",
        "plt.show()"
      ],
      "execution_count": 18,
      "outputs": [
        {
          "output_type": "display_data",
          "data": {
            "image/png": "[encoded data removed]",
            "text/plain": [
              "<Figure size 432x432 with 1 Axes>"
            ]
          },
          "metadata": {
            "tags": [],
            "needs_background": "light"
          }
        }
      ]
    }
  ]
}