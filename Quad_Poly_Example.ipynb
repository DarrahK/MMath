{
  "nbformat": 4,
  "nbformat_minor": 0,
  "metadata": {
    "colab": {
      "name": "Quad_Poly_Example.ipynb",
      "provenance": []
    },
    "kernelspec": {
      "name": "python3",
      "display_name": "Python 3"
    },
    "language_info": {
      "name": "python"
    }
  },
  "cells": [
    {
      "cell_type": "code",
      "metadata": {
        "id": "06wR8hZY8OEe"
      },
      "source": [
        "import numpy as np\n",
        "import tensorflow as tf\n",
        "from tensorflow import keras\n",
        "from tensorflow.keras import layers"
      ],
      "execution_count": 12,
      "outputs": []
    },
    {
      "cell_type": "code",
      "metadata": {
        "id": "JpiGrHS-9HcM"
      },
      "source": [
        "def exact(x):\n",
        "  return 1 + 2* x + 4 * x**2"
      ],
      "execution_count": 13,
      "outputs": []
    },
    {
      "cell_type": "code",
      "metadata": {
        "id": "eOaptuyCBVF_"
      },
      "source": [
        "class Quad_Model(keras.Model):\n",
        "  def __init__(self, *args, **kwargs):\n",
        "    super(Quad_Model, self).__init__(*args, **kwargs)\n",
        "    self.theta_0 = tf.Variable(np.random.randn(), name = \"theta_0\")\n",
        "    self.theta_1 = tf.Variable(np.random.randn(), name = \"theta_1\")\n",
        "    self.theta_2 = tf.Variable(np.random.randn(), name = \"theta_2\")\n",
        "\n",
        "  def call(self, x):\n",
        "    return self.theta_0 + self.theta_1 * x + self.theta_2 * tf.pow(x, 2)"
      ],
      "execution_count": 14,
      "outputs": []
    },
    {
      "cell_type": "code",
      "metadata": {
        "id": "y09JeoQN8Rpa"
      },
      "source": [
        "def creat_train_data(N, simga = 0.1):\n",
        "  x_data = np.random.uniform(0.0 , 1.0, N)\n",
        "  noise = np.random.normal(scale = sigma , size = N)\n",
        "  y_data = exact(x_data)\n",
        "  return x_data, y_data + noise"
      ],
      "execution_count": 15,
      "outputs": []
    },
    {
      "cell_type": "code",
      "metadata": {
        "id": "2HFPHbGx9b1q"
      },
      "source": [
        "# Gaussian noise\n",
        "sigma = 0.05\n",
        "\n",
        "# Number of data points\n",
        "N = 12800\n",
        "\n",
        "# Batch Size\n",
        "batch_size = 64"
      ],
      "execution_count": 16,
      "outputs": []
    },
    {
      "cell_type": "code",
      "metadata": {
        "id": "WOhx0YIp_EPx"
      },
      "source": [
        "x_data, y_data = creat_train_data(N, sigma)"
      ],
      "execution_count": 17,
      "outputs": []
    },
    {
      "cell_type": "code",
      "metadata": {
        "id": "r5fsacWaBix6"
      },
      "source": [
        "model = Quad_Model()"
      ],
      "execution_count": 18,
      "outputs": []
    },
    {
      "cell_type": "code",
      "metadata": {
        "id": "FzJGqfrSBsTL"
      },
      "source": [
        "train_dataset = tf.data.Dataset.from_tensor_slices((x_data, y_data))\n",
        "train_dataset = train_dataset.shuffle(N).batch(batch_size)"
      ],
      "execution_count": 19,
      "outputs": []
    },
    {
      "cell_type": "code",
      "metadata": {
        "id": "VeFzumRpGUhG"
      },
      "source": [
        "optimizer = tf.keras.optimizers.RMSprop(learning_rate = 0.1)\n",
        "loss_fn = tf.keras.losses.MeanSquaredError()"
      ],
      "execution_count": 20,
      "outputs": []
    },
    {
      "cell_type": "code",
      "metadata": {
        "colab": {
          "base_uri": "https://localhost:8080/"
        },
        "id": "cXH9lGjAGWIj",
        "outputId": "0c0cbd8d-9cfa-41e1-d4df-44c30161edc2"
      },
      "source": [
        "epochs = 4\n",
        "\n",
        "# Train over number of epochs\n",
        "for epoch in range(epochs):\n",
        "    print(f\"\\nStart of epoch {epoch + 1}\")\n",
        "    for step, (x_batch_train, y_batch_train) in enumerate(train_dataset):\n",
        "        with tf.GradientTape() as tape:\n",
        "            y_batch_pred = model(x_batch_train)\n",
        "            loss_value = loss_fn(y_batch_pred, y_batch_train)\n",
        "        grads = tape.gradient(loss_value, model.trainable_weights)\n",
        "        optimizer.apply_gradients(zip(grads, model.trainable_weights))\n",
        "\n",
        "        if step % 50 == 0:\n",
        "          print(f\"Training loss (for one batch) at batch {step}: {loss_value}\")\n"
      ],
      "execution_count": 21,
      "outputs": [
        {
          "output_type": "stream",
          "text": [
            "\n",
            "Start of epoch 1\n",
            "Training loss (for one batch) at batch 0: 39.318416595458984\n",
            "Training loss (for one batch) at batch 50: 0.22835280001163483\n",
            "Training loss (for one batch) at batch 100: 0.04472389444708824\n",
            "Training loss (for one batch) at batch 150: 0.016725637018680573\n",
            "\n",
            "Start of epoch 2\n",
            "Training loss (for one batch) at batch 0: 0.011514125391840935\n",
            "Training loss (for one batch) at batch 50: 0.013022517785429955\n",
            "Training loss (for one batch) at batch 100: 0.02256164140999317\n",
            "Training loss (for one batch) at batch 150: 0.024273846298456192\n",
            "\n",
            "Start of epoch 3\n",
            "Training loss (for one batch) at batch 0: 0.0338311530649662\n",
            "Training loss (for one batch) at batch 50: 0.007658145856112242\n",
            "Training loss (for one batch) at batch 100: 0.023959217593073845\n",
            "Training loss (for one batch) at batch 150: 0.028053347021341324\n",
            "\n",
            "Start of epoch 4\n",
            "Training loss (for one batch) at batch 0: 0.002948240377008915\n",
            "Training loss (for one batch) at batch 50: 0.03178013861179352\n",
            "Training loss (for one batch) at batch 100: 0.004450428765267134\n",
            "Training loss (for one batch) at batch 150: 0.022565506398677826\n"
          ],
          "name": "stdout"
        }
      ]
    },
    {
      "cell_type": "code",
      "metadata": {
        "colab": {
          "base_uri": "https://localhost:8080/"
        },
        "id": "dErABKGiG601",
        "outputId": "30bbdcfb-8f9f-4ffa-80ac-e9522010a489"
      },
      "source": [
        "model.trainable_variables"
      ],
      "execution_count": 22,
      "outputs": [
        {
          "output_type": "execute_result",
          "data": {
            "text/plain": [
              "[<tf.Variable 'theta_0:0' shape=() dtype=float32, numpy=1.0415856>,\n",
              " <tf.Variable 'theta_1:0' shape=() dtype=float32, numpy=2.0993302>,\n",
              " <tf.Variable 'theta_2:0' shape=() dtype=float32, numpy=4.0158815>]"
            ]
          },
          "metadata": {
            "tags": []
          },
          "execution_count": 22
        }
      ]
    },
    {
      "cell_type": "code",
      "metadata": {
        "id": "29Txk6DxJfkH"
      },
      "source": [
        "from matplotlib import pyplot as plt\n",
        "from matplotlib.pyplot import figure"
      ],
      "execution_count": 23,
      "outputs": []
    },
    {
      "cell_type": "code",
      "metadata": {
        "colab": {
          "base_uri": "https://localhost:8080/",
          "height": 282
        },
        "id": "FijPWuprJlgU",
        "outputId": "e2fb1618-6abf-4d59-aaf9-4509c5fdba5f"
      },
      "source": [
        "x_plot = np.linspace(0.0, 1.0, 100)\n",
        "\n",
        "plt.plot(x_plot, exact(x_plot))\n",
        "plt.plot(x_plot, model(x_plot))"
      ],
      "execution_count": 27,
      "outputs": [
        {
          "output_type": "execute_result",
          "data": {
            "text/plain": [
              "[<matplotlib.lines.Line2D at 0x7f23d907d690>]"
            ]
          },
          "metadata": {
            "tags": []
          },
          "execution_count": 27
        },
        {
          "output_type": "display_data",
          "data": {
            "image/png": "[encoded data removed]",
            "text/plain": [
              "<Figure size 432x288 with 1 Axes>"
            ]
          },
          "metadata": {
            "tags": [],
            "needs_background": "light"
          }
        }
      ]
    },
    {
      "cell_type": "code",
      "metadata": {
        "id": "EFtl1vvXJqrb"
      },
      "source": [
        ""
      ],
      "execution_count": null,
      "outputs": []
    }
  ]
}